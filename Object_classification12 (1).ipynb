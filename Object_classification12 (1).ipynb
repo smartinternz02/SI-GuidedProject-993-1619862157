{
 "cells": [
  {
   "cell_type": "code",
   "execution_count": 16,
   "metadata": {},
   "outputs": [],
   "source": [
    "from tensorflow.keras.models import Sequential\n",
    "from tensorflow.keras.layers import Dense\n",
    "from tensorflow.keras.layers import Convolution2D\n",
    "from tensorflow.keras.layers import MaxPooling2D\n",
    "from tensorflow.keras.layers import Flatten"
   ]
  },
  {
   "cell_type": "code",
   "execution_count": 17,
   "metadata": {},
   "outputs": [],
   "source": [
    "from keras.preprocessing.image import ImageDataGenerator\n",
    "train_datagen=ImageDataGenerator(rescale=1./255,shear_range=0.2,zoom_range=0.2,horizontal_flip=True)\n",
    "test_datagen=ImageDataGenerator(rescale=1./255)\n"
   ]
  },
  {
   "cell_type": "code",
   "execution_count": 18,
   "metadata": {},
   "outputs": [
    {
     "name": "stdout",
     "output_type": "stream",
     "text": [
      "Found 210 images belonging to 3 classes.\n",
      "Found 90 images belonging to 3 classes.\n"
     ]
    }
   ],
   "source": [
    "x_train=train_datagen.flow_from_directory(r\"D:\\geethanjali externship\\testtrain\\trainset\",target_size=(64,64),batch_size=32,class_mode=\"categorical\")\n",
    "x_test=test_datagen.flow_from_directory(r\"D:\\geethanjali externship\\testtrain\\testset\",target_size=(64,64),batch_size=32,class_mode=\"categorical\")"
   ]
  },
  {
   "cell_type": "code",
   "execution_count": 19,
   "metadata": {},
   "outputs": [],
   "source": [
    "model = Sequential()\n"
   ]
  },
  {
   "cell_type": "code",
   "execution_count": 20,
   "metadata": {},
   "outputs": [],
   "source": [
    "model.add(Convolution2D(32,(3,3),input_shape=(64,64,3),activation=\"relu\"))"
   ]
  },
  {
   "cell_type": "code",
   "execution_count": 21,
   "metadata": {},
   "outputs": [],
   "source": [
    "model.add(MaxPooling2D(2,2))"
   ]
  },
  {
   "cell_type": "code",
   "execution_count": 22,
   "metadata": {},
   "outputs": [],
   "source": [
    "model.add(Flatten())\n"
   ]
  },
  {
   "cell_type": "code",
   "execution_count": 23,
   "metadata": {},
   "outputs": [],
   "source": [
    "model.add(Dense(units = 512,activation=\"relu\",kernel_initializer=\"random_uniform\"))"
   ]
  },
  {
   "cell_type": "code",
   "execution_count": 24,
   "metadata": {},
   "outputs": [],
   "source": [
    "model.add(Dense(units = 3,activation=\"softmax\",kernel_initializer=\"random_uniform\"))"
   ]
  },
  {
   "cell_type": "code",
   "execution_count": 25,
   "metadata": {},
   "outputs": [],
   "source": [
    "model.compile(\"sgd\",loss=\"categorical_crossentropy\",metrics=[\"accuracy\"])"
   ]
  },
  {
   "cell_type": "code",
   "execution_count": 26,
   "metadata": {},
   "outputs": [
    {
     "name": "stdout",
     "output_type": "stream",
     "text": [
      "Epoch 1/25\n",
      "7/7 [==============================] - 2s 306ms/step - loss: 1.1724 - acc: 0.3476 - val_loss: 1.0954 - val_acc: 0.3556\n",
      "Epoch 2/25\n",
      "7/7 [==============================] - 1s 119ms/step - loss: 1.0259 - acc: 0.4429 - val_loss: 0.9262 - val_acc: 0.6444\n",
      "Epoch 3/25\n",
      "7/7 [==============================] - 1s 178ms/step - loss: 0.9275 - acc: 0.6429 - val_loss: 0.9888 - val_acc: 0.5444\n",
      "Epoch 4/25\n",
      "7/7 [==============================] - 1s 182ms/step - loss: 0.9602 - acc: 0.5524 - val_loss: 0.8650 - val_acc: 0.6000\n",
      "Epoch 5/25\n",
      "7/7 [==============================] - 1s 177ms/step - loss: 0.8954 - acc: 0.5762 - val_loss: 0.8408 - val_acc: 0.5889\n",
      "Epoch 6/25\n",
      "7/7 [==============================] - 1s 184ms/step - loss: 0.7899 - acc: 0.7143 - val_loss: 0.8085 - val_acc: 0.6333\n",
      "Epoch 7/25\n",
      "7/7 [==============================] - 1s 182ms/step - loss: 0.7906 - acc: 0.6857 - val_loss: 0.8276 - val_acc: 0.6111\n",
      "Epoch 8/25\n",
      "7/7 [==============================] - 1s 205ms/step - loss: 0.7587 - acc: 0.6667 - val_loss: 0.7929 - val_acc: 0.6333\n",
      "Epoch 9/25\n",
      "7/7 [==============================] - 1s 176ms/step - loss: 0.7263 - acc: 0.7238 - val_loss: 0.7044 - val_acc: 0.7333\n",
      "Epoch 10/25\n",
      "7/7 [==============================] - 1s 181ms/step - loss: 0.6898 - acc: 0.7190 - val_loss: 0.6985 - val_acc: 0.7333\n",
      "Epoch 11/25\n",
      "7/7 [==============================] - 1s 181ms/step - loss: 0.6448 - acc: 0.7762 - val_loss: 0.7514 - val_acc: 0.6556\n",
      "Epoch 12/25\n",
      "7/7 [==============================] - 1s 167ms/step - loss: 0.6798 - acc: 0.7048 - val_loss: 0.7605 - val_acc: 0.6556\n",
      "Epoch 13/25\n",
      "7/7 [==============================] - 1s 210ms/step - loss: 0.5835 - acc: 0.7952 - val_loss: 0.6339 - val_acc: 0.7778\n",
      "Epoch 14/25\n",
      "7/7 [==============================] - 1s 180ms/step - loss: 0.6400 - acc: 0.7429 - val_loss: 0.7039 - val_acc: 0.7111\n",
      "Epoch 15/25\n",
      "7/7 [==============================] - 1s 180ms/step - loss: 0.5874 - acc: 0.7857 - val_loss: 0.5721 - val_acc: 0.7667\n",
      "Epoch 16/25\n",
      "7/7 [==============================] - 1s 197ms/step - loss: 0.6367 - acc: 0.7238 - val_loss: 0.5616 - val_acc: 0.7667\n",
      "Epoch 17/25\n",
      "7/7 [==============================] - 1s 209ms/step - loss: 0.5874 - acc: 0.7667 - val_loss: 0.5753 - val_acc: 0.8000\n",
      "Epoch 18/25\n",
      "7/7 [==============================] - 1s 180ms/step - loss: 0.5201 - acc: 0.8095 - val_loss: 0.5323 - val_acc: 0.7667\n",
      "Epoch 19/25\n",
      "7/7 [==============================] - 2s 242ms/step - loss: 0.5717 - acc: 0.7857 - val_loss: 0.5469 - val_acc: 0.7889\n",
      "Epoch 20/25\n",
      "7/7 [==============================] - 1s 181ms/step - loss: 0.5667 - acc: 0.7619 - val_loss: 0.5373 - val_acc: 0.7778\n",
      "Epoch 21/25\n",
      "7/7 [==============================] - 1s 182ms/step - loss: 0.5285 - acc: 0.7810 - val_loss: 0.6627 - val_acc: 0.7333\n",
      "Epoch 22/25\n",
      "7/7 [==============================] - 1s 179ms/step - loss: 0.5067 - acc: 0.8000 - val_loss: 0.6127 - val_acc: 0.7444\n",
      "Epoch 23/25\n",
      "7/7 [==============================] - 1s 176ms/step - loss: 0.4934 - acc: 0.8095 - val_loss: 0.5168 - val_acc: 0.7778\n",
      "Epoch 24/25\n",
      "7/7 [==============================] - 1s 196ms/step - loss: 0.4539 - acc: 0.8381 - val_loss: 0.4883 - val_acc: 0.7667\n",
      "Epoch 25/25\n",
      "7/7 [==============================] - 1s 186ms/step - loss: 0.4650 - acc: 0.8381 - val_loss: 0.4815 - val_acc: 0.7889\n"
     ]
    },
    {
     "data": {
      "text/plain": [
       "<tensorflow.python.keras.callbacks.History at 0x1d2431f6668>"
      ]
     },
     "execution_count": 26,
     "metadata": {},
     "output_type": "execute_result"
    }
   ],
   "source": [
    "model.fit_generator(x_train,steps_per_epoch=7,epochs=25,validation_data= x_test,validation_steps=3)"
   ]
  },
  {
   "cell_type": "code",
   "execution_count": 27,
   "metadata": {},
   "outputs": [],
   "source": [
    "model.save(\"project.h5\")"
   ]
  },
  {
   "cell_type": "code",
   "execution_count": null,
   "metadata": {},
   "outputs": [],
   "source": []
  }
 ],
 "metadata": {
  "kernelspec": {
   "display_name": "Python 3",
   "language": "python",
   "name": "python3"
  },
  "language_info": {
   "codemirror_mode": {
    "name": "ipython",
    "version": 3
   },
   "file_extension": ".py",
   "mimetype": "text/x-python",
   "name": "python",
   "nbconvert_exporter": "python",
   "pygments_lexer": "ipython3",
   "version": "3.7.3"
  }
 },
 "nbformat": 4,
 "nbformat_minor": 2
}
